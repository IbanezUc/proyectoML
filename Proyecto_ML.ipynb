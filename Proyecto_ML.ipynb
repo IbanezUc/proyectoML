{
  "nbformat": 4,
  "nbformat_minor": 0,
  "metadata": {
    "colab": {
      "name": "Proyecto ML.ipynb",
      "provenance": [],
      "collapsed_sections": [],
      "authorship_tag": "ABX9TyOvfqBO4RM5Ab94ZnkmNi0g",
      "include_colab_link": true
    },
    "kernelspec": {
      "name": "python3",
      "display_name": "Python 3"
    },
    "language_info": {
      "name": "python"
    }
  },
  "cells": [
    {
      "cell_type": "markdown",
      "metadata": {
        "id": "view-in-github",
        "colab_type": "text"
      },
      "source": [
        "<a href=\"https://colab.research.google.com/github/IbanezUc/proyectoML/blob/main/Proyecto_ML.ipynb\" target=\"_parent\"><img src=\"https://colab.research.google.com/assets/colab-badge.svg\" alt=\"Open In Colab\"/></a>"
      ]
    },
    {
      "cell_type": "markdown",
      "source": [
        "### Importar librerías."
      ],
      "metadata": {
        "id": "01z2I03Ck03H"
      }
    },
    {
      "cell_type": "code",
      "source": [
        "!pip install Prophet"
      ],
      "metadata": {
        "colab": {
          "base_uri": "https://localhost:8080/"
        },
        "id": "nhXkmiKpy2rV",
        "outputId": "95609da4-422b-4926-fec5-f65c430deede"
      },
      "execution_count": 284,
      "outputs": [
        {
          "output_type": "stream",
          "name": "stdout",
          "text": [
            "Requirement already satisfied: Prophet in /usr/local/lib/python3.7/dist-packages (1.0.1)\n",
            "Requirement already satisfied: tqdm>=4.36.1 in /usr/local/lib/python3.7/dist-packages (from Prophet) (4.62.3)\n",
            "Requirement already satisfied: numpy>=1.15.4 in /usr/local/lib/python3.7/dist-packages (from Prophet) (1.19.5)\n",
            "Requirement already satisfied: matplotlib>=2.0.0 in /usr/local/lib/python3.7/dist-packages (from Prophet) (3.2.2)\n",
            "Requirement already satisfied: setuptools-git>=1.2 in /usr/local/lib/python3.7/dist-packages (from Prophet) (1.2)\n",
            "Requirement already satisfied: python-dateutil>=2.8.0 in /usr/local/lib/python3.7/dist-packages (from Prophet) (2.8.2)\n",
            "Requirement already satisfied: Cython>=0.22 in /usr/local/lib/python3.7/dist-packages (from Prophet) (0.29.24)\n",
            "Requirement already satisfied: pystan~=2.19.1.1 in /usr/local/lib/python3.7/dist-packages (from Prophet) (2.19.1.1)\n",
            "Requirement already satisfied: LunarCalendar>=0.0.9 in /usr/local/lib/python3.7/dist-packages (from Prophet) (0.0.9)\n",
            "Requirement already satisfied: holidays>=0.10.2 in /usr/local/lib/python3.7/dist-packages (from Prophet) (0.10.5.2)\n",
            "Requirement already satisfied: convertdate>=2.1.2 in /usr/local/lib/python3.7/dist-packages (from Prophet) (2.3.2)\n",
            "Requirement already satisfied: pandas>=1.0.4 in /usr/local/lib/python3.7/dist-packages (from Prophet) (1.1.5)\n",
            "Requirement already satisfied: cmdstanpy==0.9.68 in /usr/local/lib/python3.7/dist-packages (from Prophet) (0.9.68)\n",
            "Requirement already satisfied: ujson in /usr/local/lib/python3.7/dist-packages (from cmdstanpy==0.9.68->Prophet) (5.0.0)\n",
            "Requirement already satisfied: pytz>=2014.10 in /usr/local/lib/python3.7/dist-packages (from convertdate>=2.1.2->Prophet) (2018.9)\n",
            "Requirement already satisfied: pymeeus<=1,>=0.3.13 in /usr/local/lib/python3.7/dist-packages (from convertdate>=2.1.2->Prophet) (0.5.11)\n",
            "Requirement already satisfied: hijri-converter in /usr/local/lib/python3.7/dist-packages (from holidays>=0.10.2->Prophet) (2.2.2)\n",
            "Requirement already satisfied: six in /usr/local/lib/python3.7/dist-packages (from holidays>=0.10.2->Prophet) (1.15.0)\n",
            "Requirement already satisfied: korean-lunar-calendar in /usr/local/lib/python3.7/dist-packages (from holidays>=0.10.2->Prophet) (0.2.1)\n",
            "Requirement already satisfied: ephem>=3.7.5.3 in /usr/local/lib/python3.7/dist-packages (from LunarCalendar>=0.0.9->Prophet) (4.1)\n",
            "Requirement already satisfied: cycler>=0.10 in /usr/local/lib/python3.7/dist-packages (from matplotlib>=2.0.0->Prophet) (0.11.0)\n",
            "Requirement already satisfied: pyparsing!=2.0.4,!=2.1.2,!=2.1.6,>=2.0.1 in /usr/local/lib/python3.7/dist-packages (from matplotlib>=2.0.0->Prophet) (3.0.6)\n",
            "Requirement already satisfied: kiwisolver>=1.0.1 in /usr/local/lib/python3.7/dist-packages (from matplotlib>=2.0.0->Prophet) (1.3.2)\n"
          ]
        }
      ]
    },
    {
      "cell_type": "code",
      "execution_count": 285,
      "metadata": {
        "id": "rYDQhl1NkmAF"
      },
      "outputs": [],
      "source": [
        "import pandas as pd\n",
        "import numpy as np\n",
        "import matplotlib.pyplot as plt\n",
        "from prophet import Prophet\n",
        "\n",
        "from datetime import datetime\n",
        "from sklearn.model_selection import train_test_split"
      ]
    },
    {
      "cell_type": "markdown",
      "source": [
        "### Cargar datos del clima."
      ],
      "metadata": {
        "id": "bhIa-9ZUwj_v"
      }
    },
    {
      "cell_type": "code",
      "source": [
        "# Se crea una variable que almacena la ruta de descarga de los datos a usar,\n",
        "url = 'https://sinca.mma.gob.cl/cgi-bin/APUB-MMA/apub.tsindico2.cgi?outtype=xcl&macro=./RVII/709/Cal/PM25//PM25.horario.horario.ic&from=120707&to=211130&path=/usr/airviro/data/CONAMA/&lang=esp&rsrc=&macropath='\n",
        "\n",
        "# Se leen los datos del archivo, separados por punto y coma(;) y se almacenan las columas de fecha y hora en una misma columna para facilitar su manipulación.\n",
        "      # datos_clima = pd.read_csv(url, delimiter = ';', parse_dates = [['FECHA (YYMMDD)','HORA (HHMM)']])\n",
        "\n",
        "# Hay que configurar el tipo de fecha en el dataset debido a que el formato que adquiere al ser leído genera que el mes del csv\n",
        "# sea leído como un año.\n",
        "dateparse = lambda x: datetime.strptime(x, '%y%m%d')\n",
        "\n",
        "#Se lee el archivo csv desde la ruta de internet, se le indican ciertas modificaciones para su lectura adecuada.\n",
        "datos_clima = pd.read_csv(url, delimiter = ';', decimal = ',' , parse_dates = ['FECHA (YYMMDD)'], date_parser = dateparse)\n",
        "#datos_clima = pd.read_csv(url, delimiter = ';')\n",
        "\n",
        "#Comprobando la información.\n",
        "datos_clima.head(20)"
      ],
      "metadata": {
        "colab": {
          "base_uri": "https://localhost:8080/",
          "height": 677
        },
        "id": "KILULKJkwjA3",
        "outputId": "fdc0e007-c0d9-44f7-d6d1-e84deb0292ed"
      },
      "execution_count": 286,
      "outputs": [
        {
          "output_type": "execute_result",
          "data": {
            "text/html": [
              "<div>\n",
              "<style scoped>\n",
              "    .dataframe tbody tr th:only-of-type {\n",
              "        vertical-align: middle;\n",
              "    }\n",
              "\n",
              "    .dataframe tbody tr th {\n",
              "        vertical-align: top;\n",
              "    }\n",
              "\n",
              "    .dataframe thead th {\n",
              "        text-align: right;\n",
              "    }\n",
              "</style>\n",
              "<table border=\"1\" class=\"dataframe\">\n",
              "  <thead>\n",
              "    <tr style=\"text-align: right;\">\n",
              "      <th></th>\n",
              "      <th>FECHA (YYMMDD)</th>\n",
              "      <th>HORA (HHMM)</th>\n",
              "      <th>Registros validados</th>\n",
              "      <th>Registros preliminares</th>\n",
              "      <th>Registros no validados</th>\n",
              "      <th>Unnamed: 5</th>\n",
              "    </tr>\n",
              "  </thead>\n",
              "  <tbody>\n",
              "    <tr>\n",
              "      <th>0</th>\n",
              "      <td>2012-07-07</td>\n",
              "      <td>100</td>\n",
              "      <td>NaN</td>\n",
              "      <td>NaN</td>\n",
              "      <td>NaN</td>\n",
              "      <td>NaN</td>\n",
              "    </tr>\n",
              "    <tr>\n",
              "      <th>1</th>\n",
              "      <td>2012-07-07</td>\n",
              "      <td>200</td>\n",
              "      <td>NaN</td>\n",
              "      <td>NaN</td>\n",
              "      <td>NaN</td>\n",
              "      <td>NaN</td>\n",
              "    </tr>\n",
              "    <tr>\n",
              "      <th>2</th>\n",
              "      <td>2012-07-07</td>\n",
              "      <td>300</td>\n",
              "      <td>NaN</td>\n",
              "      <td>NaN</td>\n",
              "      <td>NaN</td>\n",
              "      <td>NaN</td>\n",
              "    </tr>\n",
              "    <tr>\n",
              "      <th>3</th>\n",
              "      <td>2012-07-07</td>\n",
              "      <td>400</td>\n",
              "      <td>NaN</td>\n",
              "      <td>NaN</td>\n",
              "      <td>NaN</td>\n",
              "      <td>NaN</td>\n",
              "    </tr>\n",
              "    <tr>\n",
              "      <th>4</th>\n",
              "      <td>2012-07-07</td>\n",
              "      <td>500</td>\n",
              "      <td>NaN</td>\n",
              "      <td>NaN</td>\n",
              "      <td>NaN</td>\n",
              "      <td>NaN</td>\n",
              "    </tr>\n",
              "    <tr>\n",
              "      <th>5</th>\n",
              "      <td>2012-07-07</td>\n",
              "      <td>600</td>\n",
              "      <td>NaN</td>\n",
              "      <td>NaN</td>\n",
              "      <td>NaN</td>\n",
              "      <td>NaN</td>\n",
              "    </tr>\n",
              "    <tr>\n",
              "      <th>6</th>\n",
              "      <td>2012-07-07</td>\n",
              "      <td>700</td>\n",
              "      <td>NaN</td>\n",
              "      <td>NaN</td>\n",
              "      <td>NaN</td>\n",
              "      <td>NaN</td>\n",
              "    </tr>\n",
              "    <tr>\n",
              "      <th>7</th>\n",
              "      <td>2012-07-07</td>\n",
              "      <td>800</td>\n",
              "      <td>NaN</td>\n",
              "      <td>NaN</td>\n",
              "      <td>NaN</td>\n",
              "      <td>NaN</td>\n",
              "    </tr>\n",
              "    <tr>\n",
              "      <th>8</th>\n",
              "      <td>2012-07-07</td>\n",
              "      <td>900</td>\n",
              "      <td>NaN</td>\n",
              "      <td>NaN</td>\n",
              "      <td>NaN</td>\n",
              "      <td>NaN</td>\n",
              "    </tr>\n",
              "    <tr>\n",
              "      <th>9</th>\n",
              "      <td>2012-07-07</td>\n",
              "      <td>1000</td>\n",
              "      <td>NaN</td>\n",
              "      <td>NaN</td>\n",
              "      <td>NaN</td>\n",
              "      <td>NaN</td>\n",
              "    </tr>\n",
              "    <tr>\n",
              "      <th>10</th>\n",
              "      <td>2012-07-07</td>\n",
              "      <td>1100</td>\n",
              "      <td>NaN</td>\n",
              "      <td>NaN</td>\n",
              "      <td>NaN</td>\n",
              "      <td>NaN</td>\n",
              "    </tr>\n",
              "    <tr>\n",
              "      <th>11</th>\n",
              "      <td>2012-07-07</td>\n",
              "      <td>1200</td>\n",
              "      <td>NaN</td>\n",
              "      <td>NaN</td>\n",
              "      <td>NaN</td>\n",
              "      <td>NaN</td>\n",
              "    </tr>\n",
              "    <tr>\n",
              "      <th>12</th>\n",
              "      <td>2012-07-07</td>\n",
              "      <td>1300</td>\n",
              "      <td>NaN</td>\n",
              "      <td>NaN</td>\n",
              "      <td>NaN</td>\n",
              "      <td>NaN</td>\n",
              "    </tr>\n",
              "    <tr>\n",
              "      <th>13</th>\n",
              "      <td>2012-07-07</td>\n",
              "      <td>1400</td>\n",
              "      <td>NaN</td>\n",
              "      <td>NaN</td>\n",
              "      <td>NaN</td>\n",
              "      <td>NaN</td>\n",
              "    </tr>\n",
              "    <tr>\n",
              "      <th>14</th>\n",
              "      <td>2012-07-07</td>\n",
              "      <td>1500</td>\n",
              "      <td>NaN</td>\n",
              "      <td>NaN</td>\n",
              "      <td>NaN</td>\n",
              "      <td>NaN</td>\n",
              "    </tr>\n",
              "    <tr>\n",
              "      <th>15</th>\n",
              "      <td>2012-07-07</td>\n",
              "      <td>1600</td>\n",
              "      <td>NaN</td>\n",
              "      <td>NaN</td>\n",
              "      <td>33.7100</td>\n",
              "      <td>NaN</td>\n",
              "    </tr>\n",
              "    <tr>\n",
              "      <th>16</th>\n",
              "      <td>2012-07-07</td>\n",
              "      <td>1700</td>\n",
              "      <td>NaN</td>\n",
              "      <td>NaN</td>\n",
              "      <td>53.9500</td>\n",
              "      <td>NaN</td>\n",
              "    </tr>\n",
              "    <tr>\n",
              "      <th>17</th>\n",
              "      <td>2012-07-07</td>\n",
              "      <td>1800</td>\n",
              "      <td>NaN</td>\n",
              "      <td>NaN</td>\n",
              "      <td>96.3999</td>\n",
              "      <td>NaN</td>\n",
              "    </tr>\n",
              "    <tr>\n",
              "      <th>18</th>\n",
              "      <td>2012-07-07</td>\n",
              "      <td>1900</td>\n",
              "      <td>NaN</td>\n",
              "      <td>NaN</td>\n",
              "      <td>67.4298</td>\n",
              "      <td>NaN</td>\n",
              "    </tr>\n",
              "    <tr>\n",
              "      <th>19</th>\n",
              "      <td>2012-07-07</td>\n",
              "      <td>2000</td>\n",
              "      <td>NaN</td>\n",
              "      <td>NaN</td>\n",
              "      <td>163.2000</td>\n",
              "      <td>NaN</td>\n",
              "    </tr>\n",
              "  </tbody>\n",
              "</table>\n",
              "</div>"
            ],
            "text/plain": [
              "   FECHA (YYMMDD)  HORA (HHMM)  ...  Registros no validados  Unnamed: 5\n",
              "0      2012-07-07          100  ...                     NaN         NaN\n",
              "1      2012-07-07          200  ...                     NaN         NaN\n",
              "2      2012-07-07          300  ...                     NaN         NaN\n",
              "3      2012-07-07          400  ...                     NaN         NaN\n",
              "4      2012-07-07          500  ...                     NaN         NaN\n",
              "5      2012-07-07          600  ...                     NaN         NaN\n",
              "6      2012-07-07          700  ...                     NaN         NaN\n",
              "7      2012-07-07          800  ...                     NaN         NaN\n",
              "8      2012-07-07          900  ...                     NaN         NaN\n",
              "9      2012-07-07         1000  ...                     NaN         NaN\n",
              "10     2012-07-07         1100  ...                     NaN         NaN\n",
              "11     2012-07-07         1200  ...                     NaN         NaN\n",
              "12     2012-07-07         1300  ...                     NaN         NaN\n",
              "13     2012-07-07         1400  ...                     NaN         NaN\n",
              "14     2012-07-07         1500  ...                     NaN         NaN\n",
              "15     2012-07-07         1600  ...                 33.7100         NaN\n",
              "16     2012-07-07         1700  ...                 53.9500         NaN\n",
              "17     2012-07-07         1800  ...                 96.3999         NaN\n",
              "18     2012-07-07         1900  ...                 67.4298         NaN\n",
              "19     2012-07-07         2000  ...                163.2000         NaN\n",
              "\n",
              "[20 rows x 6 columns]"
            ]
          },
          "metadata": {},
          "execution_count": 286
        }
      ]
    },
    {
      "cell_type": "code",
      "source": [
        "# Se elimina la última columna debido a que no posee datos y, considerando la cantidad de valores no definidos,\n",
        "# se decidió trabajar con medias diarias, por ende, la columna de horas no será una columna necesaria para el \n",
        "# trabajo a realizar.\n",
        "\n",
        "datos_clima = datos_clima.drop(columns=['HORA (HHMM)', 'Unnamed: 5'])\n",
        "\n",
        "type(datos_clima['Registros validados'])\n"
      ],
      "metadata": {
        "colab": {
          "base_uri": "https://localhost:8080/"
        },
        "id": "2hlewuuIMPL6",
        "outputId": "c453bf71-9fa4-48c1-d791-1c60975d75fc"
      },
      "execution_count": 287,
      "outputs": [
        {
          "output_type": "execute_result",
          "data": {
            "text/plain": [
              "pandas.core.series.Series"
            ]
          },
          "metadata": {},
          "execution_count": 287
        }
      ]
    },
    {
      "cell_type": "markdown",
      "source": [
        "##### Se divide el dataframe original en pequeños dataframe's en los que cada uno tendrá datos según la columna que se seleccione de registros, sólo para favorecer la comprensión de la información."
      ],
      "metadata": {
        "id": "kYy_c6ybKRgr"
      }
    },
    {
      "cell_type": "code",
      "source": [
        "data = {'Fecha': datos_clima['FECHA (YYMMDD)'],'datos': datos_clima['Registros validados'] }\n",
        "datos_preliminares = {'Fecha': datos_clima['FECHA (YYMMDD)'],'datos': datos_clima['Registros preliminares'] }\n",
        "datos_no_validados = {'Fecha': datos_clima['FECHA (YYMMDD)'],'datos': datos_clima['Registros no validados'] }\n",
        "\n",
        "type(data)"
      ],
      "metadata": {
        "id": "n23p0trs0461",
        "colab": {
          "base_uri": "https://localhost:8080/"
        },
        "outputId": "bbf056ee-4a25-4149-fbf5-6267b949ab74"
      },
      "execution_count": 288,
      "outputs": [
        {
          "output_type": "execute_result",
          "data": {
            "text/plain": [
              "dict"
            ]
          },
          "metadata": {},
          "execution_count": 288
        }
      ]
    },
    {
      "cell_type": "markdown",
      "source": [
        "##### Al separar la información a través del uso de diccionarios, los datos se deberán transformar de vuelta a dataframe."
      ],
      "metadata": {
        "id": "8zJzqA-LKxNL"
      }
    },
    {
      "cell_type": "code",
      "source": [
        "data = pd.DataFrame(data)\n",
        "datos_preliminares = pd.DataFrame(datos_preliminares)\n",
        "datos_no_validados = pd.DataFrame(datos_no_validados)\n",
        "\n",
        "print(f'Largo df validados: {len(data)}, largo df preliminares: {len(datos_preliminares)}, Largo df no validados: {len(datos_no_validados)}')"
      ],
      "metadata": {
        "colab": {
          "base_uri": "https://localhost:8080/"
        },
        "id": "QYwmk4F8KpIj",
        "outputId": "b883768c-14af-4547-dae6-4c7ecba7f14e"
      },
      "execution_count": 289,
      "outputs": [
        {
          "output_type": "stream",
          "name": "stdout",
          "text": [
            "Largo df validados: 82415, largo df preliminares: 82415, Largo df no validados: 82415\n"
          ]
        }
      ]
    },
    {
      "cell_type": "markdown",
      "source": [
        "##### En las siguientes tres celdas se revisarán algunos datos de los 'sub dataframes'"
      ],
      "metadata": {
        "id": "Ebqmb4arLgMM"
      }
    },
    {
      "cell_type": "code",
      "source": [
        "data.head(10)"
      ],
      "metadata": {
        "colab": {
          "base_uri": "https://localhost:8080/",
          "height": 363
        },
        "id": "fQdayxQvMB6m",
        "outputId": "10e930fa-04ce-41b1-c689-9c35c21e4da9"
      },
      "execution_count": 290,
      "outputs": [
        {
          "output_type": "execute_result",
          "data": {
            "text/html": [
              "<div>\n",
              "<style scoped>\n",
              "    .dataframe tbody tr th:only-of-type {\n",
              "        vertical-align: middle;\n",
              "    }\n",
              "\n",
              "    .dataframe tbody tr th {\n",
              "        vertical-align: top;\n",
              "    }\n",
              "\n",
              "    .dataframe thead th {\n",
              "        text-align: right;\n",
              "    }\n",
              "</style>\n",
              "<table border=\"1\" class=\"dataframe\">\n",
              "  <thead>\n",
              "    <tr style=\"text-align: right;\">\n",
              "      <th></th>\n",
              "      <th>Fecha</th>\n",
              "      <th>datos</th>\n",
              "    </tr>\n",
              "  </thead>\n",
              "  <tbody>\n",
              "    <tr>\n",
              "      <th>0</th>\n",
              "      <td>2012-07-07</td>\n",
              "      <td>NaN</td>\n",
              "    </tr>\n",
              "    <tr>\n",
              "      <th>1</th>\n",
              "      <td>2012-07-07</td>\n",
              "      <td>NaN</td>\n",
              "    </tr>\n",
              "    <tr>\n",
              "      <th>2</th>\n",
              "      <td>2012-07-07</td>\n",
              "      <td>NaN</td>\n",
              "    </tr>\n",
              "    <tr>\n",
              "      <th>3</th>\n",
              "      <td>2012-07-07</td>\n",
              "      <td>NaN</td>\n",
              "    </tr>\n",
              "    <tr>\n",
              "      <th>4</th>\n",
              "      <td>2012-07-07</td>\n",
              "      <td>NaN</td>\n",
              "    </tr>\n",
              "    <tr>\n",
              "      <th>5</th>\n",
              "      <td>2012-07-07</td>\n",
              "      <td>NaN</td>\n",
              "    </tr>\n",
              "    <tr>\n",
              "      <th>6</th>\n",
              "      <td>2012-07-07</td>\n",
              "      <td>NaN</td>\n",
              "    </tr>\n",
              "    <tr>\n",
              "      <th>7</th>\n",
              "      <td>2012-07-07</td>\n",
              "      <td>NaN</td>\n",
              "    </tr>\n",
              "    <tr>\n",
              "      <th>8</th>\n",
              "      <td>2012-07-07</td>\n",
              "      <td>NaN</td>\n",
              "    </tr>\n",
              "    <tr>\n",
              "      <th>9</th>\n",
              "      <td>2012-07-07</td>\n",
              "      <td>NaN</td>\n",
              "    </tr>\n",
              "  </tbody>\n",
              "</table>\n",
              "</div>"
            ],
            "text/plain": [
              "       Fecha  datos\n",
              "0 2012-07-07    NaN\n",
              "1 2012-07-07    NaN\n",
              "2 2012-07-07    NaN\n",
              "3 2012-07-07    NaN\n",
              "4 2012-07-07    NaN\n",
              "5 2012-07-07    NaN\n",
              "6 2012-07-07    NaN\n",
              "7 2012-07-07    NaN\n",
              "8 2012-07-07    NaN\n",
              "9 2012-07-07    NaN"
            ]
          },
          "metadata": {},
          "execution_count": 290
        }
      ]
    },
    {
      "cell_type": "code",
      "source": [
        "datos_preliminares.head(10)"
      ],
      "metadata": {
        "colab": {
          "base_uri": "https://localhost:8080/",
          "height": 363
        },
        "id": "2cACFUp8MC_B",
        "outputId": "4e4219dc-67b5-4d52-8b4e-191b4e8bcec1"
      },
      "execution_count": 291,
      "outputs": [
        {
          "output_type": "execute_result",
          "data": {
            "text/html": [
              "<div>\n",
              "<style scoped>\n",
              "    .dataframe tbody tr th:only-of-type {\n",
              "        vertical-align: middle;\n",
              "    }\n",
              "\n",
              "    .dataframe tbody tr th {\n",
              "        vertical-align: top;\n",
              "    }\n",
              "\n",
              "    .dataframe thead th {\n",
              "        text-align: right;\n",
              "    }\n",
              "</style>\n",
              "<table border=\"1\" class=\"dataframe\">\n",
              "  <thead>\n",
              "    <tr style=\"text-align: right;\">\n",
              "      <th></th>\n",
              "      <th>Fecha</th>\n",
              "      <th>datos</th>\n",
              "    </tr>\n",
              "  </thead>\n",
              "  <tbody>\n",
              "    <tr>\n",
              "      <th>0</th>\n",
              "      <td>2012-07-07</td>\n",
              "      <td>NaN</td>\n",
              "    </tr>\n",
              "    <tr>\n",
              "      <th>1</th>\n",
              "      <td>2012-07-07</td>\n",
              "      <td>NaN</td>\n",
              "    </tr>\n",
              "    <tr>\n",
              "      <th>2</th>\n",
              "      <td>2012-07-07</td>\n",
              "      <td>NaN</td>\n",
              "    </tr>\n",
              "    <tr>\n",
              "      <th>3</th>\n",
              "      <td>2012-07-07</td>\n",
              "      <td>NaN</td>\n",
              "    </tr>\n",
              "    <tr>\n",
              "      <th>4</th>\n",
              "      <td>2012-07-07</td>\n",
              "      <td>NaN</td>\n",
              "    </tr>\n",
              "    <tr>\n",
              "      <th>5</th>\n",
              "      <td>2012-07-07</td>\n",
              "      <td>NaN</td>\n",
              "    </tr>\n",
              "    <tr>\n",
              "      <th>6</th>\n",
              "      <td>2012-07-07</td>\n",
              "      <td>NaN</td>\n",
              "    </tr>\n",
              "    <tr>\n",
              "      <th>7</th>\n",
              "      <td>2012-07-07</td>\n",
              "      <td>NaN</td>\n",
              "    </tr>\n",
              "    <tr>\n",
              "      <th>8</th>\n",
              "      <td>2012-07-07</td>\n",
              "      <td>NaN</td>\n",
              "    </tr>\n",
              "    <tr>\n",
              "      <th>9</th>\n",
              "      <td>2012-07-07</td>\n",
              "      <td>NaN</td>\n",
              "    </tr>\n",
              "  </tbody>\n",
              "</table>\n",
              "</div>"
            ],
            "text/plain": [
              "       Fecha  datos\n",
              "0 2012-07-07    NaN\n",
              "1 2012-07-07    NaN\n",
              "2 2012-07-07    NaN\n",
              "3 2012-07-07    NaN\n",
              "4 2012-07-07    NaN\n",
              "5 2012-07-07    NaN\n",
              "6 2012-07-07    NaN\n",
              "7 2012-07-07    NaN\n",
              "8 2012-07-07    NaN\n",
              "9 2012-07-07    NaN"
            ]
          },
          "metadata": {},
          "execution_count": 291
        }
      ]
    },
    {
      "cell_type": "code",
      "source": [
        "datos_no_validados.head(10)"
      ],
      "metadata": {
        "colab": {
          "base_uri": "https://localhost:8080/",
          "height": 363
        },
        "id": "TwJSfsbfLXiI",
        "outputId": "54a6599e-8d1d-4a53-a59c-20050fefde96"
      },
      "execution_count": 292,
      "outputs": [
        {
          "output_type": "execute_result",
          "data": {
            "text/html": [
              "<div>\n",
              "<style scoped>\n",
              "    .dataframe tbody tr th:only-of-type {\n",
              "        vertical-align: middle;\n",
              "    }\n",
              "\n",
              "    .dataframe tbody tr th {\n",
              "        vertical-align: top;\n",
              "    }\n",
              "\n",
              "    .dataframe thead th {\n",
              "        text-align: right;\n",
              "    }\n",
              "</style>\n",
              "<table border=\"1\" class=\"dataframe\">\n",
              "  <thead>\n",
              "    <tr style=\"text-align: right;\">\n",
              "      <th></th>\n",
              "      <th>Fecha</th>\n",
              "      <th>datos</th>\n",
              "    </tr>\n",
              "  </thead>\n",
              "  <tbody>\n",
              "    <tr>\n",
              "      <th>0</th>\n",
              "      <td>2012-07-07</td>\n",
              "      <td>NaN</td>\n",
              "    </tr>\n",
              "    <tr>\n",
              "      <th>1</th>\n",
              "      <td>2012-07-07</td>\n",
              "      <td>NaN</td>\n",
              "    </tr>\n",
              "    <tr>\n",
              "      <th>2</th>\n",
              "      <td>2012-07-07</td>\n",
              "      <td>NaN</td>\n",
              "    </tr>\n",
              "    <tr>\n",
              "      <th>3</th>\n",
              "      <td>2012-07-07</td>\n",
              "      <td>NaN</td>\n",
              "    </tr>\n",
              "    <tr>\n",
              "      <th>4</th>\n",
              "      <td>2012-07-07</td>\n",
              "      <td>NaN</td>\n",
              "    </tr>\n",
              "    <tr>\n",
              "      <th>5</th>\n",
              "      <td>2012-07-07</td>\n",
              "      <td>NaN</td>\n",
              "    </tr>\n",
              "    <tr>\n",
              "      <th>6</th>\n",
              "      <td>2012-07-07</td>\n",
              "      <td>NaN</td>\n",
              "    </tr>\n",
              "    <tr>\n",
              "      <th>7</th>\n",
              "      <td>2012-07-07</td>\n",
              "      <td>NaN</td>\n",
              "    </tr>\n",
              "    <tr>\n",
              "      <th>8</th>\n",
              "      <td>2012-07-07</td>\n",
              "      <td>NaN</td>\n",
              "    </tr>\n",
              "    <tr>\n",
              "      <th>9</th>\n",
              "      <td>2012-07-07</td>\n",
              "      <td>NaN</td>\n",
              "    </tr>\n",
              "  </tbody>\n",
              "</table>\n",
              "</div>"
            ],
            "text/plain": [
              "       Fecha  datos\n",
              "0 2012-07-07    NaN\n",
              "1 2012-07-07    NaN\n",
              "2 2012-07-07    NaN\n",
              "3 2012-07-07    NaN\n",
              "4 2012-07-07    NaN\n",
              "5 2012-07-07    NaN\n",
              "6 2012-07-07    NaN\n",
              "7 2012-07-07    NaN\n",
              "8 2012-07-07    NaN\n",
              "9 2012-07-07    NaN"
            ]
          },
          "metadata": {},
          "execution_count": 292
        }
      ]
    },
    {
      "cell_type": "markdown",
      "source": [
        "##### Al tener cada uno de ellos muchas filas sin información que aportar en cuanto al material particulado, cada una de ellas serán quitadas de los df, de momento."
      ],
      "metadata": {
        "id": "G7-zLjg9MRyP"
      }
    },
    {
      "cell_type": "code",
      "source": [
        "# data = data.dropna(axis = 0)\n",
        "# datos_preliminares = datos_preliminares.dropna(axis = 0)\n",
        "# datos_no_validados = datos_no_validados.dropna(axis = 0)\n",
        "\n",
        "# data = data.fillna(0)\n",
        "# datos_preliminares = datos_preliminares.fillna(0)\n",
        "# datos_no_validados = datos_no_validados.fillna(0)\n",
        "\n",
        "print(f'Largo df validados: {len(data)}, largo df preliminares: {len(datos_preliminares)}, Largo df no validados: {len(datos_no_validados)}')"
      ],
      "metadata": {
        "colab": {
          "base_uri": "https://localhost:8080/"
        },
        "id": "ql3nRIQGLMWa",
        "outputId": "dea4cd7b-835b-4ce4-84ef-48cdec189f38"
      },
      "execution_count": 293,
      "outputs": [
        {
          "output_type": "stream",
          "name": "stdout",
          "text": [
            "Largo df validados: 82415, largo df preliminares: 82415, Largo df no validados: 82415\n"
          ]
        }
      ]
    },
    {
      "cell_type": "markdown",
      "source": [
        "Al haber eliminado la columnas de horas, se tienen muchas información que indican la misma fecha de evaluación. Por lo tanto todo valor que se tenga por fecha será agrupado en una sola fila. El indice de material particulado será sumado en la fila que represente la fecha correspondiente."
      ],
      "metadata": {
        "id": "i9U4z1bHITeB"
      }
    },
    {
      "cell_type": "code",
      "source": [
        "data = data.groupby('Fecha').agg({'datos': \"mean\"})\n",
        "datos_preliminares = datos_preliminares.groupby('Fecha').agg({'datos': \"mean\"})\n",
        "datos_no_validados = datos_no_validados.groupby('Fecha').agg({'datos': \"mean\"})"
      ],
      "metadata": {
        "id": "eATkLC4gR0Z-"
      },
      "execution_count": 294,
      "outputs": []
    },
    {
      "cell_type": "code",
      "source": [
        "data.columns"
      ],
      "metadata": {
        "colab": {
          "base_uri": "https://localhost:8080/"
        },
        "id": "XVbO6x_IPWkW",
        "outputId": "7436364d-735b-4603-cb4d-aecd1c0f3540"
      },
      "execution_count": 295,
      "outputs": [
        {
          "output_type": "execute_result",
          "data": {
            "text/plain": [
              "Index(['datos'], dtype='object')"
            ]
          },
          "metadata": {},
          "execution_count": 295
        }
      ]
    },
    {
      "cell_type": "code",
      "source": [
        "print(f'Largo datos validados: {len(data)}, Largo datos preliminares: {len(datos_preliminares)}')"
      ],
      "metadata": {
        "colab": {
          "base_uri": "https://localhost:8080/"
        },
        "id": "XI9QX7UWS3bq",
        "outputId": "00595582-2265-43b5-b6d4-126ed3d2ea6c"
      },
      "execution_count": 296,
      "outputs": [
        {
          "output_type": "stream",
          "name": "stdout",
          "text": [
            "Largo datos validados: 3434, Largo datos preliminares: 3434\n"
          ]
        }
      ]
    },
    {
      "cell_type": "markdown",
      "source": [
        "#### Se unen los dataframes de datos validados, preliminares y no validados usando el método cobine_first que, según la documnentación del Python, se unen dataframes y se mantienen los valores del dataframe de la izquierda. En caso de que alguna celda del dataframe de la izquierda tenga un valor 'nan' y el dataframe de la derecha si tenga valor en ella, el dataframe resultante tomará el valor del dataframe de la derecha.\n",
        "\n",
        "#### Se le da prioridad al dataframe de datos validados, luego a los datos preliminares y finalmente a los no validados en situaciones en que en una fila exista valores validos en más de un dataframe."
      ],
      "metadata": {
        "id": "7jYnEO_4KDcf"
      }
    },
    {
      "cell_type": "code",
      "source": [
        "df_resultante = data.combine_first(datos_preliminares).combine_first(datos_no_validados)\n",
        "print(f'total: {len(data)}, Resultado real: {len(df_resultante)}')\n",
        "\n",
        "df_resultante['datos'].hasnans"
      ],
      "metadata": {
        "colab": {
          "base_uri": "https://localhost:8080/"
        },
        "id": "Un820Z15ILDF",
        "outputId": "62c7415a-52a1-4e9c-abcd-1e551b638296"
      },
      "execution_count": 297,
      "outputs": [
        {
          "output_type": "stream",
          "name": "stdout",
          "text": [
            "total: 3434, Resultado real: 3434\n"
          ]
        },
        {
          "output_type": "execute_result",
          "data": {
            "text/plain": [
              "True"
            ]
          },
          "metadata": {},
          "execution_count": 297
        }
      ]
    },
    {
      "cell_type": "markdown",
      "source": [
        "#### Se sacarán promedios diarios y mensuales.\n",
        "\n",
        "#### En el caso de los promedios mensuales su uso será para interpolar datos dentro de un mismo mes para las filas faltantes."
      ],
      "metadata": {
        "id": "3UzSizZLK-gw"
      }
    },
    {
      "cell_type": "code",
      "source": [
        "import math\n",
        "\n",
        "#Sumatoria de emisiones al mes.\n",
        "suma_emisiones_en_mes = {}\n",
        "\n",
        "# Se cuentan la cantidad de días que se obtuvieron emisiones. Su función es contar\n",
        "#.días para que al final de cada mes se saque el promedio.\n",
        "cant_dias_x_mes = {}\n",
        "\n",
        "# Promedio de emisiones por mes.\n",
        "promedios = {}"
      ],
      "metadata": {
        "id": "CK-Fz-U4eNKK"
      },
      "execution_count": 298,
      "outputs": []
    },
    {
      "cell_type": "code",
      "source": [
        "def obtenerPromedios(dataFrame_a_usar):\n",
        "# Para cada elemento en el largo del dataset\n",
        "  for elemento in range(len(dataFrame_a_usar)):\n",
        "\n",
        "#   fecha = df_resultante.index[elemento]\n",
        "#   print(fecha)\n",
        "\n",
        "#   Para sacar el promedio mensual se hará una simulación de que cada día del mes\n",
        "#   es el mismo día para poder sacar el promedio más fácil.\n",
        "    fecha = dataFrame_a_usar.index[elemento].to_pydatetime().replace(day=1)\n",
        "\n",
        "#   Esta variable obtiene el dato de la fila elemento en la columna del dataframe\n",
        "#   llamada 'datos'. En otras palabras, en cada iteración se obtiene la cantidad \n",
        "#   de emisiones en Curicó, por consiguiente, cada uno de los datos que se asignan\n",
        "#   corresponde a una fecha diferente.\n",
        "    dato = dataFrame_a_usar.iloc[elemento]['datos']\n",
        "\n",
        "#   Confirmación de si el dato obtenido de emisiones es nan. En caso de ser 'True',\n",
        "#   el for se dirige automáticamente a la siguiente iteración ignorando el dato \n",
        "#   nan, debido a que no aporta información para la obtención de promedios.\n",
        "    if math.isnan(dato):\n",
        "      continue\n",
        "  \n",
        "#   ---------------- Se comienzan a hacer cálculos --------------------\n",
        "\n",
        "#   Considerando que se reemplazaron los días de cada mes por el día 1, se hace \n",
        "#   lo siguiente:\n",
        "#   Si la fecha no está dentro de el diccionario...\n",
        "    if fecha not in suma_emisiones_en_mes:\n",
        "#     Crea una instancia de la fecha y le agrega el dato asociado.\n",
        "      suma_emisiones_en_mes[fecha] = dato\n",
        "#     indico que el mes tiene su primer día con emisiones encontrado.\n",
        "      cant_dias_x_mes[fecha] = 1.0\n",
        "  \n",
        "#     En caso contrario, Si el mes ya tiene uno o más días con emisiones, hace lo\n",
        "#     siguiente:\n",
        "    else:\n",
        "#     Al diccionario que obtiene la cantidad de emisiones mensuales agrega la \n",
        "#     nueva emisión, teniendo en cuenta que cada día del mes se idetnificó como\n",
        "#     el día 1 del mes correspondiente.\n",
        "      suma_emisiones_en_mes[fecha] += dato\n",
        "    \n",
        "#     Se señala que el mes tuvo un nuevo día con emisiones.\n",
        "      cant_dias_x_mes[fecha] += 1.0\n",
        "      \n",
        "# Para cada mes se calcula la cantidad promedio de emisiones. Notar que el uso de\n",
        "# el if math.isnan anteriormente, provocará que si hay un mes sin datos de emisiones\n",
        "# será ignorado ya que no se hizo un cálculo al respecto de ningún día sin datos.\n",
        "  for meses_emisiones in suma_emisiones_en_mes.keys():\n",
        "#   Para calcular la suma se divide la sumatoria de emisiones\n",
        "    promedios[meses_emisiones] = suma_emisiones_en_mes[meses_emisiones]/cant_dias_x_mes[meses_emisiones]\n",
        "\n",
        "#print(meses_emisiones, cant_dias_x_mes[meses_emisiones])\n"
      ],
      "metadata": {
        "id": "nOs2ap9LMfDE"
      },
      "execution_count": 299,
      "outputs": []
    },
    {
      "cell_type": "code",
      "source": [
        "obtenerPromedios(df_resultante)"
      ],
      "metadata": {
        "id": "0_3nSeOoMrHL"
      },
      "execution_count": 300,
      "outputs": []
    },
    {
      "cell_type": "markdown",
      "source": [
        "#### La siguiente celda corresponde al rellenado de valores nans, los cuales serán rellenados con el promedio mensual hecho con los valores existentes.\n",
        "\n",
        "###### Esta celda se ha comentado para brindar la funcionalidad de rellenar valores nan luego de hacer un filtro de filas. Se decidió dejar como comentario debido a que fue un aporte para hacerme notar que valores persistían siendo nan luego de modificar la información"
      ],
      "metadata": {
        "id": "xKOMC4YKRIbz"
      }
    },
    {
      "cell_type": "code",
      "source": [
        "'''\n",
        "# Para cada valor / elememnto a lo largo de la fila.\n",
        "for elemento in range(len(df_resultante)):\n",
        "  # Se toma el índice y se obtiene una fecha puntual.\n",
        "  fecha = df_resultante.index[elemento].to_pydatetime()\n",
        "\n",
        "  # Se obtiene la cantidad de emisión de la fecha elegida en la iteración.\n",
        "  dato = df_resultante.iloc[elemento]['datos']\n",
        "  \n",
        "  # Evalúo si el valor es nan. En caso de ser positivo:\n",
        "  if math.isnan(dato):\n",
        "    # Pregunto si el diccionario 'promedios' tiene el mes del valor nan. Esto es\n",
        "    # Para saber si puede reemplazar el valor nan por un valor existente en el \n",
        "    # diccionario.\n",
        "    if fecha.replace(day=1) in promedios:\n",
        "      # En el lugar en donde se encuentra el valor nan se asigna, o reemplaza s, \n",
        "      # el promedio mensual.\n",
        "      df_resultante['datos'][elemento] = promedios[fecha.replace(day=1)]\n",
        "      print(df_resultante['datos'][elemento])\n",
        "'''"
      ],
      "metadata": {
        "colab": {
          "base_uri": "https://localhost:8080/",
          "height": 128
        },
        "id": "BdXglq98ZqNc",
        "outputId": "da6bd6ec-fc4e-4a7e-99c4-27a20c17f98a"
      },
      "execution_count": 301,
      "outputs": [
        {
          "output_type": "execute_result",
          "data": {
            "application/vnd.google.colaboratory.intrinsic+json": {
              "type": "string"
            },
            "text/plain": [
              "\"\\n# Para cada valor / elememnto a lo largo de la fila.\\nfor elemento in range(len(df_resultante)):\\n  # Se toma el índice y se obtiene una fecha puntual.\\n  fecha = df_resultante.index[elemento].to_pydatetime()\\n\\n  # Se obtiene la cantidad de emisión de la fecha elegida en la iteración.\\n  dato = df_resultante.iloc[elemento]['datos']\\n  \\n  # Evalúo si el valor es nan. En caso de ser positivo:\\n  if math.isnan(dato):\\n    # Pregunto si el diccionario 'promedios' tiene el mes del valor nan. Esto es\\n    # Para saber si puede reemplazar el valor nan por un valor existente en el \\n    # diccionario.\\n    if fecha.replace(day=1) in promedios:\\n      # En el lugar en donde se encuentra el valor nan se asigna, o reemplaza s, \\n      # el promedio mensual.\\n      df_resultante['datos'][elemento] = promedios[fecha.replace(day=1)]\\n      print(df_resultante['datos'][elemento])\\n\""
            ]
          },
          "metadata": {},
          "execution_count": 301
        }
      ]
    },
    {
      "cell_type": "markdown",
      "source": [
        "#### Al visualizar los promedios mensuales, se puede notar que hay seis meses que no tienen información de promedios. Son los meses entre octubre del año 2012 y y Febrero del año 2013, incluyendo esas fechas. \n",
        "\n",
        "#### Se considera que el intentar ingresar información manual, o datos dummy, a tal cantidad de tiempo podría perjudicar el funcionamiento del trabajo o, si se desea, la visualización de información fidedigna."
      ],
      "metadata": {
        "id": "jqZkJS-nf2Vy"
      }
    },
    {
      "cell_type": "code",
      "source": [
        "for elemento in promedios.keys():\n",
        "  print(f'Elemento: {elemento}, promedio: {promedios[elemento]}')"
      ],
      "metadata": {
        "colab": {
          "base_uri": "https://localhost:8080/"
        },
        "id": "Bh4uVjoQbnVz",
        "outputId": "04c8630b-3370-4bbd-80c9-4975e439e4bb"
      },
      "execution_count": 302,
      "outputs": [
        {
          "output_type": "stream",
          "name": "stdout",
          "text": [
            "Elemento: 2012-07-01 00:00:00, promedio: 95.73782073888886\n",
            "Elemento: 2012-08-01 00:00:00, promedio: 179.6865568942866\n",
            "Elemento: 2012-09-01 00:00:00, promedio: 772.7471768398586\n",
            "Elemento: 2013-03-01 00:00:00, promedio: 19.87453249181861\n",
            "Elemento: 2013-04-01 00:00:00, promedio: 30.13609777903256\n",
            "Elemento: 2013-05-01 00:00:00, promedio: 63.196568246568255\n",
            "Elemento: 2013-06-01 00:00:00, promedio: 59.05784934969411\n",
            "Elemento: 2013-07-01 00:00:00, promedio: 54.67516845006326\n",
            "Elemento: 2013-08-01 00:00:00, promedio: 54.67913000977518\n",
            "Elemento: 2013-09-01 00:00:00, promedio: 29.37724292615598\n",
            "Elemento: 2013-10-01 00:00:00, promedio: 15.011608015640276\n",
            "Elemento: 2013-11-01 00:00:00, promedio: 8.743357487922706\n",
            "Elemento: 2013-12-01 00:00:00, promedio: 9.331364789955254\n",
            "Elemento: 2014-01-01 00:00:00, promedio: 11.011590424167007\n",
            "Elemento: 2014-02-01 00:00:00, promedio: 10.10849567099567\n",
            "Elemento: 2014-03-01 00:00:00, promedio: 16.810801614623497\n",
            "Elemento: 2014-04-01 00:00:00, promedio: 36.13703337725077\n",
            "Elemento: 2014-05-01 00:00:00, promedio: 47.16581391161188\n",
            "Elemento: 2014-06-01 00:00:00, promedio: 50.66573553258336\n",
            "Elemento: 2014-07-01 00:00:00, promedio: 59.40007012622721\n",
            "Elemento: 2014-08-01 00:00:00, promedio: 40.832891679771066\n",
            "Elemento: 2014-09-01 00:00:00, promedio: 19.379605841018886\n",
            "Elemento: 2014-10-01 00:00:00, promedio: 12.975535148115094\n",
            "Elemento: 2014-11-01 00:00:00, promedio: 10.282516022264847\n",
            "Elemento: 2014-12-01 00:00:00, promedio: 10.39948146111048\n",
            "Elemento: 2015-01-01 00:00:00, promedio: 11.760151980996135\n",
            "Elemento: 2015-02-01 00:00:00, promedio: 16.233869927523\n",
            "Elemento: 2015-03-01 00:00:00, promedio: 15.270616542750409\n",
            "Elemento: 2015-04-01 00:00:00, promedio: 34.70214458247067\n",
            "Elemento: 2015-05-01 00:00:00, promedio: 50.07515850940278\n",
            "Elemento: 2015-06-01 00:00:00, promedio: 42.53888324939613\n",
            "Elemento: 2015-07-01 00:00:00, promedio: 43.41604470391521\n",
            "Elemento: 2015-08-01 00:00:00, promedio: 26.84478400350632\n",
            "Elemento: 2015-09-01 00:00:00, promedio: 19.749505454911436\n",
            "Elemento: 2015-10-01 00:00:00, promedio: 12.225245883681536\n",
            "Elemento: 2015-11-01 00:00:00, promedio: 7.128777753532328\n",
            "Elemento: 2015-12-01 00:00:00, promedio: 4.280855255016723\n",
            "Elemento: 2016-01-01 00:00:00, promedio: 10.962815123188404\n",
            "Elemento: 2016-02-01 00:00:00, promedio: 11.488357441336152\n",
            "Elemento: 2016-03-01 00:00:00, promedio: 22.422570572166265\n",
            "Elemento: 2016-04-01 00:00:00, promedio: 26.389264640865175\n",
            "Elemento: 2016-05-01 00:00:00, promedio: 48.73944652368202\n",
            "Elemento: 2016-06-01 00:00:00, promedio: 63.30602945954106\n",
            "Elemento: 2016-07-01 00:00:00, promedio: 61.48606102677547\n",
            "Elemento: 2016-08-01 00:00:00, promedio: 35.009949707223\n",
            "Elemento: 2016-09-01 00:00:00, promedio: 25.259296434782605\n",
            "Elemento: 2016-10-01 00:00:00, promedio: 10.983016498310596\n",
            "Elemento: 2016-11-01 00:00:00, promedio: 9.201625190821256\n",
            "Elemento: 2016-12-01 00:00:00, promedio: 10.46854256603553\n",
            "Elemento: 2017-01-01 00:00:00, promedio: 25.102515494857407\n",
            "Elemento: 2017-02-01 00:00:00, promedio: 13.118272597402596\n",
            "Elemento: 2017-03-01 00:00:00, promedio: 13.564683533777467\n",
            "Elemento: 2017-04-01 00:00:00, promedio: 17.778507593599034\n",
            "Elemento: 2017-05-01 00:00:00, promedio: 39.797600263808185\n",
            "Elemento: 2017-06-01 00:00:00, promedio: 44.52815656565656\n",
            "Elemento: 2017-07-01 00:00:00, promedio: 56.611333734054654\n",
            "Elemento: 2017-08-01 00:00:00, promedio: 40.98223468910707\n",
            "Elemento: 2017-09-01 00:00:00, promedio: 18.56464285714286\n",
            "Elemento: 2017-10-01 00:00:00, promedio: 8.436604828084493\n",
            "Elemento: 2017-11-01 00:00:00, promedio: 7.880132850241546\n",
            "Elemento: 2017-12-01 00:00:00, promedio: 7.215988779803648\n",
            "Elemento: 2018-01-01 00:00:00, promedio: 6.833449463112857\n",
            "Elemento: 2018-02-01 00:00:00, promedio: 7.6477272727272725\n",
            "Elemento: 2018-03-01 00:00:00, promedio: 9.114656381486673\n",
            "Elemento: 2018-04-01 00:00:00, promedio: 20.372430830039526\n",
            "Elemento: 2018-05-01 00:00:00, promedio: 39.3052541544477\n",
            "Elemento: 2018-06-01 00:00:00, promedio: 64.28573232323232\n",
            "Elemento: 2018-07-01 00:00:00, promedio: 48.20931085043988\n",
            "Elemento: 2018-08-01 00:00:00, promedio: 45.7254922496858\n",
            "Elemento: 2018-09-01 00:00:00, promedio: 20.052278216952125\n",
            "Elemento: 2018-10-01 00:00:00, promedio: 7.811665037471489\n",
            "Elemento: 2018-11-01 00:00:00, promedio: 4.352657004830918\n",
            "Elemento: 2018-12-01 00:00:00, promedio: 5.492928938756426\n",
            "Elemento: 2019-01-01 00:00:00, promedio: 6.610948191593354\n",
            "Elemento: 2019-02-01 00:00:00, promedio: 12.36523033126294\n",
            "Elemento: 2019-03-01 00:00:00, promedio: 15.506858557524758\n",
            "Elemento: 2019-04-01 00:00:00, promedio: 28.15138888888889\n",
            "Elemento: 2019-05-01 00:00:00, promedio: 42.123802541544464\n",
            "Elemento: 2019-06-01 00:00:00, promedio: 46.53381642512077\n",
            "Elemento: 2019-07-01 00:00:00, promedio: 55.03839410939691\n",
            "Elemento: 2019-08-01 00:00:00, promedio: 36.11985741000466\n",
            "Elemento: 2019-09-01 00:00:00, promedio: 19.3870992534036\n",
            "Elemento: 2019-10-01 00:00:00, promedio: 11.182917888563049\n",
            "Elemento: 2019-11-01 00:00:00, promedio: 9.389267676767673\n",
            "Elemento: 2019-12-01 00:00:00, promedio: 10.046458625525945\n",
            "Elemento: 2020-01-01 00:00:00, promedio: 11.832781858221992\n",
            "Elemento: 2020-02-01 00:00:00, promedio: 11.723075962018989\n",
            "Elemento: 2020-03-01 00:00:00, promedio: 11.369306418219463\n",
            "Elemento: 2020-04-01 00:00:00, promedio: 24.40632850241545\n",
            "Elemento: 2020-05-01 00:00:00, promedio: 41.988971056993506\n",
            "Elemento: 2020-06-01 00:00:00, promedio: 43.53285573122529\n",
            "Elemento: 2020-07-01 00:00:00, promedio: 41.422133324833176\n",
            "Elemento: 2020-08-01 00:00:00, promedio: 32.873422159887795\n",
            "Elemento: 2020-09-01 00:00:00, promedio: 19.905060386473433\n",
            "Elemento: 2020-10-01 00:00:00, promedio: 12.008824216923799\n",
            "Elemento: 2020-11-01 00:00:00, promedio: 9.619806763285023\n",
            "Elemento: 2020-12-01 00:00:00, promedio: 9.181119371512077\n",
            "Elemento: 2021-01-01 00:00:00, promedio: 10.781733616235723\n",
            "Elemento: 2021-02-01 00:00:00, promedio: 6.859536749482403\n",
            "Elemento: 2021-03-01 00:00:00, promedio: 11.513766446269951\n",
            "Elemento: 2021-04-01 00:00:00, promedio: 24.15764163372859\n",
            "Elemento: 2021-05-01 00:00:00, promedio: 47.848309532916836\n",
            "Elemento: 2021-06-01 00:00:00, promedio: 52.317839105339104\n",
            "Elemento: 2021-07-01 00:00:00, promedio: 63.89785300409424\n",
            "Elemento: 2021-08-01 00:00:00, promedio: 43.96080900165753\n",
            "Elemento: 2021-09-01 00:00:00, promedio: 20.02613636363636\n",
            "Elemento: 2021-10-01 00:00:00, promedio: 11.133765778401122\n",
            "Elemento: 2021-11-01 00:00:00, promedio: 7.564635485287661\n"
          ]
        }
      ]
    },
    {
      "cell_type": "markdown",
      "source": [
        "#### Una forma gráfica de visualizar la falta de datos es con el gráfico de serie de tiempo."
      ],
      "metadata": {
        "id": "hK3cmAWelHhF"
      }
    },
    {
      "cell_type": "code",
      "source": [
        "fig, ax = plt.subplots(figsize = (18,6))\n",
        "\n",
        "df_resultante.plot(y = 'datos', ax = ax)\n",
        "plt.legend(loc = 'upper left')"
      ],
      "metadata": {
        "colab": {
          "base_uri": "https://localhost:8080/",
          "height": 406
        },
        "id": "JHHYZbHBlGqn",
        "outputId": "59601326-34ed-44df-e22d-39ddfee409d5"
      },
      "execution_count": 303,
      "outputs": [
        {
          "output_type": "execute_result",
          "data": {
            "text/plain": [
              "<matplotlib.legend.Legend at 0x7f23d6f26550>"
            ]
          },
          "metadata": {},
          "execution_count": 303
        },
        {
          "output_type": "display_data",
          "data": {
            "image/png": "[encoded data removed]",
            "text/plain": [
              "<Figure size 1296x432 with 1 Axes>"
            ]
          },
          "metadata": {
            "needs_background": "light"
          }
        }
      ]
    },
    {
      "cell_type": "markdown",
      "source": [
        "#### Por lo tanto se almacenará información entre los meses consecutivos que poseen información. Marzo 2013 en adelante"
      ],
      "metadata": {
        "id": "rzfuiJYBKAg7"
      }
    },
    {
      "cell_type": "code",
      "source": [
        "df_filtrado = df_resultante.loc['2013-03-01  00:00:00':]\n",
        "\n",
        "df_filtrado.head()"
      ],
      "metadata": {
        "colab": {
          "base_uri": "https://localhost:8080/",
          "height": 238
        },
        "id": "lOT0BGuTDEdo",
        "outputId": "a0799799-68ec-4d08-9ba5-fb1795506488"
      },
      "execution_count": 304,
      "outputs": [
        {
          "output_type": "execute_result",
          "data": {
            "text/html": [
              "<div>\n",
              "<style scoped>\n",
              "    .dataframe tbody tr th:only-of-type {\n",
              "        vertical-align: middle;\n",
              "    }\n",
              "\n",
              "    .dataframe tbody tr th {\n",
              "        vertical-align: top;\n",
              "    }\n",
              "\n",
              "    .dataframe thead th {\n",
              "        text-align: right;\n",
              "    }\n",
              "</style>\n",
              "<table border=\"1\" class=\"dataframe\">\n",
              "  <thead>\n",
              "    <tr style=\"text-align: right;\">\n",
              "      <th></th>\n",
              "      <th>datos</th>\n",
              "    </tr>\n",
              "    <tr>\n",
              "      <th>Fecha</th>\n",
              "      <th></th>\n",
              "    </tr>\n",
              "  </thead>\n",
              "  <tbody>\n",
              "    <tr>\n",
              "      <th>2013-03-01</th>\n",
              "      <td>5.875000</td>\n",
              "    </tr>\n",
              "    <tr>\n",
              "      <th>2013-03-02</th>\n",
              "      <td>10.250000</td>\n",
              "    </tr>\n",
              "    <tr>\n",
              "      <th>2013-03-03</th>\n",
              "      <td>15.333333</td>\n",
              "    </tr>\n",
              "    <tr>\n",
              "      <th>2013-03-04</th>\n",
              "      <td>17.041667</td>\n",
              "    </tr>\n",
              "    <tr>\n",
              "      <th>2013-03-05</th>\n",
              "      <td>17.125000</td>\n",
              "    </tr>\n",
              "  </tbody>\n",
              "</table>\n",
              "</div>"
            ],
            "text/plain": [
              "                datos\n",
              "Fecha                \n",
              "2013-03-01   5.875000\n",
              "2013-03-02  10.250000\n",
              "2013-03-03  15.333333\n",
              "2013-03-04  17.041667\n",
              "2013-03-05  17.125000"
            ]
          },
          "metadata": {},
          "execution_count": 304
        }
      ]
    },
    {
      "cell_type": "code",
      "source": [
        "# Vaciar sumatoria de emisiones al mes.\n",
        "suma_emisiones_en_mes = {}\n",
        "\n",
        "# Vaciar la cantidad de días\n",
        "cant_dias_x_mes = {}\n",
        "\n",
        "# Vaciar Promedio de emisiones por mes.\n",
        "promedios = {}\n",
        "\n",
        "obtenerPromedios(df_filtrado)"
      ],
      "metadata": {
        "id": "RAAB4SkvM22D"
      },
      "execution_count": 305,
      "outputs": []
    },
    {
      "cell_type": "code",
      "source": [
        "for elemento in promedios.keys():\n",
        "  print(f'Elemento: {elemento}, promedio: {promedios[elemento]}')"
      ],
      "metadata": {
        "colab": {
          "base_uri": "https://localhost:8080/"
        },
        "id": "l5tLbhJeKN0j",
        "outputId": "8628d6c6-3bf6-44f2-ee91-feb5afa072d2"
      },
      "execution_count": 306,
      "outputs": [
        {
          "output_type": "stream",
          "name": "stdout",
          "text": [
            "Elemento: 2013-03-01 00:00:00, promedio: 19.87453249181861\n",
            "Elemento: 2013-04-01 00:00:00, promedio: 30.13609777903256\n",
            "Elemento: 2013-05-01 00:00:00, promedio: 63.196568246568255\n",
            "Elemento: 2013-06-01 00:00:00, promedio: 59.05784934969411\n",
            "Elemento: 2013-07-01 00:00:00, promedio: 54.67516845006326\n",
            "Elemento: 2013-08-01 00:00:00, promedio: 54.67913000977518\n",
            "Elemento: 2013-09-01 00:00:00, promedio: 29.37724292615598\n",
            "Elemento: 2013-10-01 00:00:00, promedio: 15.011608015640276\n",
            "Elemento: 2013-11-01 00:00:00, promedio: 8.743357487922706\n",
            "Elemento: 2013-12-01 00:00:00, promedio: 9.331364789955254\n",
            "Elemento: 2014-01-01 00:00:00, promedio: 11.011590424167007\n",
            "Elemento: 2014-02-01 00:00:00, promedio: 10.10849567099567\n",
            "Elemento: 2014-03-01 00:00:00, promedio: 16.810801614623497\n",
            "Elemento: 2014-04-01 00:00:00, promedio: 36.13703337725077\n",
            "Elemento: 2014-05-01 00:00:00, promedio: 47.16581391161188\n",
            "Elemento: 2014-06-01 00:00:00, promedio: 50.66573553258336\n",
            "Elemento: 2014-07-01 00:00:00, promedio: 59.40007012622721\n",
            "Elemento: 2014-08-01 00:00:00, promedio: 40.832891679771066\n",
            "Elemento: 2014-09-01 00:00:00, promedio: 19.379605841018886\n",
            "Elemento: 2014-10-01 00:00:00, promedio: 12.975535148115094\n",
            "Elemento: 2014-11-01 00:00:00, promedio: 10.282516022264847\n",
            "Elemento: 2014-12-01 00:00:00, promedio: 10.39948146111048\n",
            "Elemento: 2015-01-01 00:00:00, promedio: 11.760151980996135\n",
            "Elemento: 2015-02-01 00:00:00, promedio: 16.233869927523\n",
            "Elemento: 2015-03-01 00:00:00, promedio: 15.270616542750409\n",
            "Elemento: 2015-04-01 00:00:00, promedio: 34.70214458247067\n",
            "Elemento: 2015-05-01 00:00:00, promedio: 50.07515850940278\n",
            "Elemento: 2015-06-01 00:00:00, promedio: 42.53888324939613\n",
            "Elemento: 2015-07-01 00:00:00, promedio: 43.41604470391521\n",
            "Elemento: 2015-08-01 00:00:00, promedio: 26.84478400350632\n",
            "Elemento: 2015-09-01 00:00:00, promedio: 19.749505454911436\n",
            "Elemento: 2015-10-01 00:00:00, promedio: 12.225245883681536\n",
            "Elemento: 2015-11-01 00:00:00, promedio: 7.128777753532328\n",
            "Elemento: 2015-12-01 00:00:00, promedio: 4.280855255016723\n",
            "Elemento: 2016-01-01 00:00:00, promedio: 10.962815123188404\n",
            "Elemento: 2016-02-01 00:00:00, promedio: 11.488357441336152\n",
            "Elemento: 2016-03-01 00:00:00, promedio: 22.422570572166265\n",
            "Elemento: 2016-04-01 00:00:00, promedio: 26.389264640865175\n",
            "Elemento: 2016-05-01 00:00:00, promedio: 48.73944652368202\n",
            "Elemento: 2016-06-01 00:00:00, promedio: 63.30602945954106\n",
            "Elemento: 2016-07-01 00:00:00, promedio: 61.48606102677547\n",
            "Elemento: 2016-08-01 00:00:00, promedio: 35.009949707223\n",
            "Elemento: 2016-09-01 00:00:00, promedio: 25.259296434782605\n",
            "Elemento: 2016-10-01 00:00:00, promedio: 10.983016498310596\n",
            "Elemento: 2016-11-01 00:00:00, promedio: 9.201625190821256\n",
            "Elemento: 2016-12-01 00:00:00, promedio: 10.46854256603553\n",
            "Elemento: 2017-01-01 00:00:00, promedio: 25.102515494857407\n",
            "Elemento: 2017-02-01 00:00:00, promedio: 13.118272597402596\n",
            "Elemento: 2017-03-01 00:00:00, promedio: 13.564683533777467\n",
            "Elemento: 2017-04-01 00:00:00, promedio: 17.778507593599034\n",
            "Elemento: 2017-05-01 00:00:00, promedio: 39.797600263808185\n",
            "Elemento: 2017-06-01 00:00:00, promedio: 44.52815656565656\n",
            "Elemento: 2017-07-01 00:00:00, promedio: 56.611333734054654\n",
            "Elemento: 2017-08-01 00:00:00, promedio: 40.98223468910707\n",
            "Elemento: 2017-09-01 00:00:00, promedio: 18.56464285714286\n",
            "Elemento: 2017-10-01 00:00:00, promedio: 8.436604828084493\n",
            "Elemento: 2017-11-01 00:00:00, promedio: 7.880132850241546\n",
            "Elemento: 2017-12-01 00:00:00, promedio: 7.215988779803648\n",
            "Elemento: 2018-01-01 00:00:00, promedio: 6.833449463112857\n",
            "Elemento: 2018-02-01 00:00:00, promedio: 7.6477272727272725\n",
            "Elemento: 2018-03-01 00:00:00, promedio: 9.114656381486673\n",
            "Elemento: 2018-04-01 00:00:00, promedio: 20.372430830039526\n",
            "Elemento: 2018-05-01 00:00:00, promedio: 39.3052541544477\n",
            "Elemento: 2018-06-01 00:00:00, promedio: 64.28573232323232\n",
            "Elemento: 2018-07-01 00:00:00, promedio: 48.20931085043988\n",
            "Elemento: 2018-08-01 00:00:00, promedio: 45.7254922496858\n",
            "Elemento: 2018-09-01 00:00:00, promedio: 20.052278216952125\n",
            "Elemento: 2018-10-01 00:00:00, promedio: 7.811665037471489\n",
            "Elemento: 2018-11-01 00:00:00, promedio: 4.352657004830918\n",
            "Elemento: 2018-12-01 00:00:00, promedio: 5.492928938756426\n",
            "Elemento: 2019-01-01 00:00:00, promedio: 6.610948191593354\n",
            "Elemento: 2019-02-01 00:00:00, promedio: 12.36523033126294\n",
            "Elemento: 2019-03-01 00:00:00, promedio: 15.506858557524758\n",
            "Elemento: 2019-04-01 00:00:00, promedio: 28.15138888888889\n",
            "Elemento: 2019-05-01 00:00:00, promedio: 42.123802541544464\n",
            "Elemento: 2019-06-01 00:00:00, promedio: 46.53381642512077\n",
            "Elemento: 2019-07-01 00:00:00, promedio: 55.03839410939691\n",
            "Elemento: 2019-08-01 00:00:00, promedio: 36.11985741000466\n",
            "Elemento: 2019-09-01 00:00:00, promedio: 19.3870992534036\n",
            "Elemento: 2019-10-01 00:00:00, promedio: 11.182917888563049\n",
            "Elemento: 2019-11-01 00:00:00, promedio: 9.389267676767673\n",
            "Elemento: 2019-12-01 00:00:00, promedio: 10.046458625525945\n",
            "Elemento: 2020-01-01 00:00:00, promedio: 11.832781858221992\n",
            "Elemento: 2020-02-01 00:00:00, promedio: 11.723075962018989\n",
            "Elemento: 2020-03-01 00:00:00, promedio: 11.369306418219463\n",
            "Elemento: 2020-04-01 00:00:00, promedio: 24.40632850241545\n",
            "Elemento: 2020-05-01 00:00:00, promedio: 41.988971056993506\n",
            "Elemento: 2020-06-01 00:00:00, promedio: 43.53285573122529\n",
            "Elemento: 2020-07-01 00:00:00, promedio: 41.422133324833176\n",
            "Elemento: 2020-08-01 00:00:00, promedio: 32.873422159887795\n",
            "Elemento: 2020-09-01 00:00:00, promedio: 19.905060386473433\n",
            "Elemento: 2020-10-01 00:00:00, promedio: 12.008824216923799\n",
            "Elemento: 2020-11-01 00:00:00, promedio: 9.619806763285023\n",
            "Elemento: 2020-12-01 00:00:00, promedio: 9.181119371512077\n",
            "Elemento: 2021-01-01 00:00:00, promedio: 10.781733616235723\n",
            "Elemento: 2021-02-01 00:00:00, promedio: 6.859536749482403\n",
            "Elemento: 2021-03-01 00:00:00, promedio: 11.513766446269951\n",
            "Elemento: 2021-04-01 00:00:00, promedio: 24.15764163372859\n",
            "Elemento: 2021-05-01 00:00:00, promedio: 47.848309532916836\n",
            "Elemento: 2021-06-01 00:00:00, promedio: 52.317839105339104\n",
            "Elemento: 2021-07-01 00:00:00, promedio: 63.89785300409424\n",
            "Elemento: 2021-08-01 00:00:00, promedio: 43.96080900165753\n",
            "Elemento: 2021-09-01 00:00:00, promedio: 20.02613636363636\n",
            "Elemento: 2021-10-01 00:00:00, promedio: 11.133765778401122\n",
            "Elemento: 2021-11-01 00:00:00, promedio: 7.564635485287661\n"
          ]
        }
      ]
    },
    {
      "cell_type": "code",
      "source": [
        "# Para cada valor / elememnto a lo largo de la fila.\n",
        "for elemento in range(len(df_filtrado)):\n",
        "  # Se toma el índice y se obtiene una fecha puntual.\n",
        "  fecha = df_filtrado.index[elemento].to_pydatetime()\n",
        "\n",
        "  # Se obtiene la cantidad de emisión de la fecha elegida en la iteración.\n",
        "  dato = df_filtrado.iloc[elemento]['datos']\n",
        "  \n",
        "  # Evalúo si el valor es nan. En caso de ser positivo:\n",
        "  if math.isnan(dato):\n",
        "    # Pregunto si el diccionario 'promedios' tiene el mes del valor nan. Esto es\n",
        "    # Para saber si puede reemplazar el valor nan por un valor existente en el \n",
        "    # diccionario.\n",
        "    if fecha.replace(day=1) in promedios:\n",
        "      # En el lugar en donde se encuentra el valor nan se asigna, o reemplaza s, \n",
        "      # el promedio mensual.\n",
        "      df_filtrado['datos'][elemento] = promedios[fecha.replace(day=1)]\n",
        "      print(f'{fecha}: {df_filtrado[\"datos\"][elemento]}')\n"
      ],
      "metadata": {
        "colab": {
          "base_uri": "https://localhost:8080/"
        },
        "id": "Y4xK6U3aKaRs",
        "outputId": "bb221335-96c1-4eda-d237-9010dbd4f6e2"
      },
      "execution_count": 307,
      "outputs": [
        {
          "output_type": "stream",
          "name": "stdout",
          "text": [
            "2013-05-03 00:00:00: 63.196568246568255\n",
            "2013-05-04 00:00:00: 63.196568246568255\n",
            "2013-05-05 00:00:00: 63.196568246568255\n",
            "2013-05-06 00:00:00: 63.196568246568255\n",
            "2013-06-29 00:00:00: 59.05784934969411\n",
            "2013-06-30 00:00:00: 59.05784934969411\n",
            "2015-03-28 00:00:00: 15.270616542750409\n",
            "2015-12-27 00:00:00: 4.280855255016723\n",
            "2015-12-28 00:00:00: 4.280855255016723\n",
            "2015-12-29 00:00:00: 4.280855255016723\n",
            "2015-12-30 00:00:00: 4.280855255016723\n",
            "2015-12-31 00:00:00: 4.280855255016723\n",
            "2016-01-01 00:00:00: 10.962815123188404\n",
            "2016-01-02 00:00:00: 10.962815123188404\n",
            "2016-01-03 00:00:00: 10.962815123188404\n",
            "2016-01-04 00:00:00: 10.962815123188404\n",
            "2016-01-05 00:00:00: 10.962815123188404\n",
            "2016-01-06 00:00:00: 10.962815123188404\n"
          ]
        },
        {
          "output_type": "stream",
          "name": "stderr",
          "text": [
            "/usr/local/lib/python3.7/dist-packages/IPython/core/interactiveshell.py:2882: SettingWithCopyWarning:\n",
            "\n",
            "\n",
            "A value is trying to be set on a copy of a slice from a DataFrame\n",
            "\n",
            "See the caveats in the documentation: https://pandas.pydata.org/pandas-docs/stable/user_guide/indexing.html#returning-a-view-versus-a-copy\n",
            "\n"
          ]
        }
      ]
    },
    {
      "cell_type": "markdown",
      "source": [
        "### Gráfico de serie de tiempo."
      ],
      "metadata": {
        "id": "buNmTgE1mC7O"
      }
    },
    {
      "cell_type": "code",
      "source": [
        "fig, ax = plt.subplots(figsize = (18,6))\n",
        "print(df_filtrado.head())\n",
        "\n",
        "\n",
        "df_filtrado.plot(y = 'datos', ax = ax)\n",
        "plt.legend(loc = 'upper left')\n"
      ],
      "metadata": {
        "colab": {
          "base_uri": "https://localhost:8080/",
          "height": 535
        },
        "id": "xsEnTqQgKwPk",
        "outputId": "796af50b-91c8-4e86-c3e1-3f0a7b699bfd"
      },
      "execution_count": 308,
      "outputs": [
        {
          "output_type": "stream",
          "name": "stdout",
          "text": [
            "                datos\n",
            "Fecha                \n",
            "2013-03-01   5.875000\n",
            "2013-03-02  10.250000\n",
            "2013-03-03  15.333333\n",
            "2013-03-04  17.041667\n",
            "2013-03-05  17.125000\n"
          ]
        },
        {
          "output_type": "execute_result",
          "data": {
            "text/plain": [
              "<matplotlib.legend.Legend at 0x7f23d6deee10>"
            ]
          },
          "metadata": {},
          "execution_count": 308
        },
        {
          "output_type": "display_data",
          "data": {
            "image/png": "[encoded data removed]",
            "text/plain": [
              "<Figure size 1296x432 with 1 Axes>"
            ]
          },
          "metadata": {
            "needs_background": "light"
          }
        }
      ]
    },
    {
      "cell_type": "code",
      "source": [
        ""
      ],
      "metadata": {
        "id": "O4-nMPVFsxCV"
      },
      "execution_count": 308,
      "outputs": []
    },
    {
      "cell_type": "markdown",
      "source": [
        "#### Separar el dataset final para prueba y entrenamiento\n",
        "\n",
        "###### Arbitrariamente se eligió dejar un 20% de la información para el conjunto de prueba. En primera instancia se considera que el tamaño de prueba es lo suficientemebte grande."
      ],
      "metadata": {
        "id": "3Zmw7SyLnpRM"
      }
    },
    {
      "cell_type": "code",
      "source": [
        "'''\n",
        "print(f'Tamaño dataset: {len(df_filtrado)}')\n",
        "\n",
        "entrenamiento, prueba = train_test_split(df_filtrado, test_size= 0.2, shuffle= False)\n",
        "\n",
        "print(f'Tamaños \\nEntrenamiento: {len(entrenamiento)}, prueba: {len(prueba)}')\n",
        "print(f'Suma: {len(entrenamiento)+len(prueba)}')\n",
        "\n",
        "\n",
        "entrenamiento.tail()\n",
        "'''\n",
        "\n",
        "df_train = df_filtrado.loc[:'2019-12-31  00:00:00']\n",
        "df_test  = df_filtrado.loc['2020-01-01  00:00:00':]"
      ],
      "metadata": {
        "id": "y81LYlrOmiJb"
      },
      "execution_count": 309,
      "outputs": []
    },
    {
      "cell_type": "code",
      "source": [
        "df_train = df_train.reset_index()\n",
        "df_test  = df_test.reset_index()"
      ],
      "metadata": {
        "id": "WdVN7nogw1hP"
      },
      "execution_count": 310,
      "outputs": []
    },
    {
      "cell_type": "code",
      "source": [
        "df_train.columns = ['ds', 'y']\n",
        "df_test.columns = ['ds', 'y']\n",
        "df_train"
      ],
      "metadata": {
        "colab": {
          "base_uri": "https://localhost:8080/",
          "height": 424
        },
        "id": "9YuqU6he1Bsb",
        "outputId": "d833709e-56e7-4b4f-9de5-ee486ec9b264"
      },
      "execution_count": 333,
      "outputs": [
        {
          "output_type": "execute_result",
          "data": {
            "text/html": [
              "<div>\n",
              "<style scoped>\n",
              "    .dataframe tbody tr th:only-of-type {\n",
              "        vertical-align: middle;\n",
              "    }\n",
              "\n",
              "    .dataframe tbody tr th {\n",
              "        vertical-align: top;\n",
              "    }\n",
              "\n",
              "    .dataframe thead th {\n",
              "        text-align: right;\n",
              "    }\n",
              "</style>\n",
              "<table border=\"1\" class=\"dataframe\">\n",
              "  <thead>\n",
              "    <tr style=\"text-align: right;\">\n",
              "      <th></th>\n",
              "      <th>ds</th>\n",
              "      <th>y</th>\n",
              "    </tr>\n",
              "  </thead>\n",
              "  <tbody>\n",
              "    <tr>\n",
              "      <th>0</th>\n",
              "      <td>2013-03-01</td>\n",
              "      <td>5.875000</td>\n",
              "    </tr>\n",
              "    <tr>\n",
              "      <th>1</th>\n",
              "      <td>2013-03-02</td>\n",
              "      <td>10.250000</td>\n",
              "    </tr>\n",
              "    <tr>\n",
              "      <th>2</th>\n",
              "      <td>2013-03-03</td>\n",
              "      <td>15.333333</td>\n",
              "    </tr>\n",
              "    <tr>\n",
              "      <th>3</th>\n",
              "      <td>2013-03-04</td>\n",
              "      <td>17.041667</td>\n",
              "    </tr>\n",
              "    <tr>\n",
              "      <th>4</th>\n",
              "      <td>2013-03-05</td>\n",
              "      <td>17.125000</td>\n",
              "    </tr>\n",
              "    <tr>\n",
              "      <th>...</th>\n",
              "      <td>...</td>\n",
              "      <td>...</td>\n",
              "    </tr>\n",
              "    <tr>\n",
              "      <th>2492</th>\n",
              "      <td>2019-12-27</td>\n",
              "      <td>14.791667</td>\n",
              "    </tr>\n",
              "    <tr>\n",
              "      <th>2493</th>\n",
              "      <td>2019-12-28</td>\n",
              "      <td>8.958333</td>\n",
              "    </tr>\n",
              "    <tr>\n",
              "      <th>2494</th>\n",
              "      <td>2019-12-29</td>\n",
              "      <td>10.583333</td>\n",
              "    </tr>\n",
              "    <tr>\n",
              "      <th>2495</th>\n",
              "      <td>2019-12-30</td>\n",
              "      <td>13.458333</td>\n",
              "    </tr>\n",
              "    <tr>\n",
              "      <th>2496</th>\n",
              "      <td>2019-12-31</td>\n",
              "      <td>15.250000</td>\n",
              "    </tr>\n",
              "  </tbody>\n",
              "</table>\n",
              "<p>2497 rows × 2 columns</p>\n",
              "</div>"
            ],
            "text/plain": [
              "             ds          y\n",
              "0    2013-03-01   5.875000\n",
              "1    2013-03-02  10.250000\n",
              "2    2013-03-03  15.333333\n",
              "3    2013-03-04  17.041667\n",
              "4    2013-03-05  17.125000\n",
              "...         ...        ...\n",
              "2492 2019-12-27  14.791667\n",
              "2493 2019-12-28   8.958333\n",
              "2494 2019-12-29  10.583333\n",
              "2495 2019-12-30  13.458333\n",
              "2496 2019-12-31  15.250000\n",
              "\n",
              "[2497 rows x 2 columns]"
            ]
          },
          "metadata": {},
          "execution_count": 333
        }
      ]
    },
    {
      "cell_type": "markdown",
      "source": [
        "#### Comienzo a usar Prophet"
      ],
      "metadata": {
        "id": "FKjhzNJZ0Exr"
      }
    },
    {
      "cell_type": "markdown",
      "source": [
        "###### Se crea el modelo de Prophet y se asegura que este tenga una periodicidad diaria. Luego, se hace el entrenamiento."
      ],
      "metadata": {
        "id": "XplS8rgAG8fB"
      }
    },
    {
      "cell_type": "code",
      "source": [
        "modelo = Prophet(daily_seasonality = True)\n",
        "modelo.fit(df_train)"
      ],
      "metadata": {
        "colab": {
          "base_uri": "https://localhost:8080/"
        },
        "id": "ziErKqW0xVh7",
        "outputId": "296d2d17-973e-4410-ad56-944ce1720231"
      },
      "execution_count": 334,
      "outputs": [
        {
          "output_type": "execute_result",
          "data": {
            "text/plain": [
              "<prophet.forecaster.Prophet at 0x7f23ce915590>"
            ]
          },
          "metadata": {},
          "execution_count": 334
        }
      ]
    },
    {
      "cell_type": "markdown",
      "source": [
        "###### Se hace la predicción con Prophet "
      ],
      "metadata": {
        "id": "mpXMaNu4HbJA"
      }
    },
    {
      "cell_type": "code",
      "source": [
        "prediccion = modelo.predict(df_test[['ds']])"
      ],
      "metadata": {
        "id": "qUvkqW_I39ew"
      },
      "execution_count": 335,
      "outputs": []
    },
    {
      "cell_type": "markdown",
      "source": [
        "###### Se toman los valores predichos. "
      ],
      "metadata": {
        "id": "hl93mzliIFq7"
      }
    },
    {
      "cell_type": "code",
      "source": [
        "y_hat_prediccion = prediccion.yhat.values"
      ],
      "metadata": {
        "id": "e-EXwQjnA2J-"
      },
      "execution_count": 336,
      "outputs": []
    },
    {
      "cell_type": "markdown",
      "source": [
        "##### Se decide hacer un cambio en el dataframe final. Se decide mover el índice fecha como columna"
      ],
      "metadata": {
        "id": "uzXjTL0uIWCL"
      }
    },
    {
      "cell_type": "code",
      "source": [
        "df_filtrado = df_filtrado.reset_index()"
      ],
      "metadata": {
        "id": "Gh1l4WGiEiNC"
      },
      "execution_count": 337,
      "outputs": []
    },
    {
      "cell_type": "code",
      "source": [
        "fig, ax = plt.subplots(figsize = (18,6))\n",
        "print(df_filtrado.head())\n",
        "\n",
        "# Se brindan las fechas y se le da la línea separadora entre predicción y los datos\n",
        "# Usados para predecir.\n",
        "plt.axvline(pd.to_datetime(str(df_test.ds.values[0])), c='violet', ls='--', lw=1)\n",
        "\n",
        "# Se grafican los datos del dataset global\n",
        "df_filtrado.plot(x = 'Fecha', y = 'datos', ax = ax)\n",
        "plt.legend(loc = 'upper left')\n",
        "\n",
        "# Se agregan los datos predichos.\n",
        "ax.plot(pd.to_datetime(df_test.ds.values), y_hat_prediccion,\n",
        "        color=\"green\", label=\"predicted\")"
      ],
      "metadata": {
        "colab": {
          "base_uri": "https://localhost:8080/",
          "height": 496
        },
        "id": "aQIOUEu9BJXw",
        "outputId": "eb8d9b94-e991-4dd1-f01c-9cd4daf8d60b"
      },
      "execution_count": 339,
      "outputs": [
        {
          "output_type": "stream",
          "name": "stdout",
          "text": [
            "   index      Fecha      datos\n",
            "0      0 2013-03-01   5.875000\n",
            "1      1 2013-03-02  10.250000\n",
            "2      2 2013-03-03  15.333333\n",
            "3      3 2013-03-04  17.041667\n",
            "4      4 2013-03-05  17.125000\n"
          ]
        },
        {
          "output_type": "execute_result",
          "data": {
            "text/plain": [
              "[<matplotlib.lines.Line2D at 0x7f23ce8c9810>]"
            ]
          },
          "metadata": {},
          "execution_count": 339
        },
        {
          "output_type": "display_data",
          "data": {
            "image/png": "[encoded data removed]",
            "text/plain": [
              "<Figure size 1296x432 with 1 Axes>"
            ]
          },
          "metadata": {
            "needs_background": "light"
          }
        }
      ]
    },
    {
      "cell_type": "markdown",
      "source": [
        "#### La predicción globalmente es correcta. Si bien, hay un error dentro de la primera mitad de ella, se debe a que la calidad del aire tuvo una variación drástica en pocos días aunque luego se 'normalizó' y comenzó a tener el comportamiento esperado por ella."
      ],
      "metadata": {
        "id": "9QOkRd61GBNR"
      }
    }
  ]
}